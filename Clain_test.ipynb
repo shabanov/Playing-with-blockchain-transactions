{
 "cells": [
  {
   "cell_type": "code",
   "execution_count": 1,
   "metadata": {},
   "outputs": [
    {
     "data": {
      "text/html": [
       "<div>\n",
       "<style>\n",
       "    .dataframe thead tr:only-child th {\n",
       "        text-align: right;\n",
       "    }\n",
       "\n",
       "    .dataframe thead th {\n",
       "        text-align: left;\n",
       "    }\n",
       "\n",
       "    .dataframe tbody tr th {\n",
       "        vertical-align: top;\n",
       "    }\n",
       "</style>\n",
       "<table border=\"1\" class=\"dataframe\">\n",
       "  <thead>\n",
       "    <tr style=\"text-align: right;\">\n",
       "      <th></th>\n",
       "      <th>address_id</th>\n",
       "      <th>cluster_id</th>\n",
       "    </tr>\n",
       "  </thead>\n",
       "  <tbody>\n",
       "    <tr>\n",
       "      <th>0</th>\n",
       "      <td>71413451</td>\n",
       "      <td>1</td>\n",
       "    </tr>\n",
       "    <tr>\n",
       "      <th>1</th>\n",
       "      <td>71411914</td>\n",
       "      <td>1</td>\n",
       "    </tr>\n",
       "    <tr>\n",
       "      <th>2</th>\n",
       "      <td>71410369</td>\n",
       "      <td>1</td>\n",
       "    </tr>\n",
       "    <tr>\n",
       "      <th>3</th>\n",
       "      <td>71410100</td>\n",
       "      <td>1</td>\n",
       "    </tr>\n",
       "    <tr>\n",
       "      <th>4</th>\n",
       "      <td>71410040</td>\n",
       "      <td>1</td>\n",
       "    </tr>\n",
       "  </tbody>\n",
       "</table>\n",
       "</div>"
      ],
      "text/plain": [
       "   address_id  cluster_id\n",
       "0    71413451           1\n",
       "1    71411914           1\n",
       "2    71410369           1\n",
       "3    71410100           1\n",
       "4    71410040           1"
      ]
     },
     "execution_count": 1,
     "metadata": {},
     "output_type": "execute_result"
    }
   ],
   "source": [
    "import pandas as pd  \n",
    "adr = pd.read_csv(\"address_clust.csv\")\n",
    "adr.head()"
   ]
  },
  {
   "cell_type": "code",
   "execution_count": 2,
   "metadata": {},
   "outputs": [
    {
     "data": {
      "text/plain": [
       "6996"
      ]
     },
     "execution_count": 2,
     "metadata": {},
     "output_type": "execute_result"
    }
   ],
   "source": [
    "adr.count()[0]"
   ]
  },
  {
   "cell_type": "code",
   "execution_count": 3,
   "metadata": {},
   "outputs": [
    {
     "data": {
      "text/plain": [
       "count    3652.0\n",
       "mean        1.0\n",
       "std         0.0\n",
       "min         1.0\n",
       "25%         1.0\n",
       "50%         1.0\n",
       "75%         1.0\n",
       "max         1.0\n",
       "Name: cluster_id, dtype: float64"
      ]
     },
     "execution_count": 3,
     "metadata": {},
     "output_type": "execute_result"
    }
   ],
   "source": [
    "adr1 = adr[adr['cluster_id'] == 1]\n",
    "adr1['cluster_id'].describe()"
   ]
  },
  {
   "cell_type": "code",
   "execution_count": 4,
   "metadata": {},
   "outputs": [
    {
     "data": {
      "text/plain": [
       "count    3344.0\n",
       "mean        2.0\n",
       "std         0.0\n",
       "min         2.0\n",
       "25%         2.0\n",
       "50%         2.0\n",
       "75%         2.0\n",
       "max         2.0\n",
       "Name: cluster_id, dtype: float64"
      ]
     },
     "execution_count": 4,
     "metadata": {},
     "output_type": "execute_result"
    }
   ],
   "source": [
    "adr2 = adr[adr['cluster_id'] == 2]\n",
    "adr2['cluster_id'].describe()"
   ]
  },
  {
   "cell_type": "code",
   "execution_count": 5,
   "metadata": {},
   "outputs": [
    {
     "data": {
      "text/html": [
       "<div>\n",
       "<style>\n",
       "    .dataframe thead tr:only-child th {\n",
       "        text-align: right;\n",
       "    }\n",
       "\n",
       "    .dataframe thead th {\n",
       "        text-align: left;\n",
       "    }\n",
       "\n",
       "    .dataframe tbody tr th {\n",
       "        vertical-align: top;\n",
       "    }\n",
       "</style>\n",
       "<table border=\"1\" class=\"dataframe\">\n",
       "  <thead>\n",
       "    <tr style=\"text-align: right;\">\n",
       "      <th></th>\n",
       "      <th>id</th>\n",
       "      <th>address_id</th>\n",
       "      <th>transaction_id</th>\n",
       "      <th>received</th>\n",
       "      <th>sent</th>\n",
       "    </tr>\n",
       "  </thead>\n",
       "  <tbody>\n",
       "    <tr>\n",
       "      <th>0</th>\n",
       "      <td>87134765</td>\n",
       "      <td>46402336</td>\n",
       "      <td>19162323</td>\n",
       "      <td>0.0</td>\n",
       "      <td>1800000.0</td>\n",
       "    </tr>\n",
       "    <tr>\n",
       "      <th>1</th>\n",
       "      <td>87134766</td>\n",
       "      <td>45919235</td>\n",
       "      <td>19162323</td>\n",
       "      <td>0.0</td>\n",
       "      <td>1071052.0</td>\n",
       "    </tr>\n",
       "    <tr>\n",
       "      <th>2</th>\n",
       "      <td>87134767</td>\n",
       "      <td>46529090</td>\n",
       "      <td>19162323</td>\n",
       "      <td>1000000.0</td>\n",
       "      <td>0.0</td>\n",
       "    </tr>\n",
       "    <tr>\n",
       "      <th>3</th>\n",
       "      <td>87134768</td>\n",
       "      <td>46529091</td>\n",
       "      <td>19162323</td>\n",
       "      <td>1821052.0</td>\n",
       "      <td>0.0</td>\n",
       "    </tr>\n",
       "    <tr>\n",
       "      <th>4</th>\n",
       "      <td>87154706</td>\n",
       "      <td>46529090</td>\n",
       "      <td>19166856</td>\n",
       "      <td>0.0</td>\n",
       "      <td>1000000.0</td>\n",
       "    </tr>\n",
       "  </tbody>\n",
       "</table>\n",
       "</div>"
      ],
      "text/plain": [
       "         id  address_id  transaction_id   received       sent\n",
       "0  87134765    46402336        19162323        0.0  1800000.0\n",
       "1  87134766    45919235        19162323        0.0  1071052.0\n",
       "2  87134767    46529090        19162323  1000000.0        0.0\n",
       "3  87134768    46529091        19162323  1821052.0        0.0\n",
       "4  87154706    46529090        19166856        0.0  1000000.0"
      ]
     },
     "execution_count": 5,
     "metadata": {},
     "output_type": "execute_result"
    }
   ],
   "source": [
    "tr = pd.read_csv(\"address_stats.csv\") \n",
    "tr.head()"
   ]
  },
  {
   "cell_type": "code",
   "execution_count": 6,
   "metadata": {},
   "outputs": [
    {
     "data": {
      "text/plain": [
       "count          76724.000000\n",
       "mean         3521806.596319\n",
       "std         80598839.672983\n",
       "min                0.000000\n",
       "25%                0.000000\n",
       "50%             5500.000000\n",
       "75%          1345500.000000\n",
       "max      20071687710.000000\n",
       "Name: sent, dtype: object"
      ]
     },
     "execution_count": 6,
     "metadata": {},
     "output_type": "execute_result"
    }
   ],
   "source": [
    "tr[\"sent\"].describe().apply(lambda x: format(x, 'f'))"
   ]
  },
  {
   "cell_type": "code",
   "execution_count": 7,
   "metadata": {},
   "outputs": [
    {
     "data": {
      "text/plain": [
       "count          76724.000000\n",
       "mean         3518724.881263\n",
       "std         80861454.260771\n",
       "min                0.000000\n",
       "25%                0.000000\n",
       "50%                0.000000\n",
       "75%          1346000.000000\n",
       "max      20010181916.000000\n",
       "Name: received, dtype: object"
      ]
     },
     "execution_count": 7,
     "metadata": {},
     "output_type": "execute_result"
    }
   ],
   "source": [
    "tr[\"received\"].describe().apply(lambda x: format(x, 'f'))"
   ]
  },
  {
   "cell_type": "code",
   "execution_count": 8,
   "metadata": {},
   "outputs": [],
   "source": [
    "# Выберем записи для 1, 2 и 0 кластеров\n",
    "adr1_rec = tr[(tr.received > 0) & (tr.address_id.isin(adr1.address_id))] # получено первым кластером\n",
    "adr2_rec = tr[(tr.received > 0) & (tr.address_id.isin(adr2.address_id))] # получено вторым кластером\n",
    "adr0_rec = tr[(tr.received > 0) & (~tr.address_id.isin(adr1.address_id)) & (~tr.address_id.isin(adr2.address_id))] # получено нулевым кластером\n",
    "adr1_sen = tr[(tr.sent > 0) & (tr.address_id.isin(adr1.address_id))] # отправлено первым кластером\n",
    "adr2_sen = tr[(tr.sent > 0) & (tr.address_id.isin(adr2.address_id))] # отправлено вторым кластером\n",
    "adr0_sen = tr[(tr.sent > 0) & (~tr.address_id.isin(adr1.address_id)) & (~tr.address_id.isin(adr2.address_id))] # получено нулевым кластером\n"
   ]
  },
  {
   "cell_type": "code",
   "execution_count": 9,
   "metadata": {},
   "outputs": [
    {
     "name": "stdout",
     "output_type": "stream",
     "text": [
      "37722 16806 12106 8810 \n",
      " 39002 16143 13420 9439\n"
     ]
    }
   ],
   "source": [
    "print (tr[(tr.received > 0)].count()[0], adr1_rec.count()[0], adr2_rec.count()[0], adr0_rec.count()[0], \n",
    "    \"\\n\",tr[(tr.sent > 0)].count()[0], adr1_sen.count()[0], adr2_sen.count()[0], adr0_sen.count()[0])"
   ]
  },
  {
   "cell_type": "code",
   "execution_count": 10,
   "metadata": {},
   "outputs": [
    {
     "name": "stdout",
     "output_type": "stream",
     "text": [
      "Received clusters processed True \n",
      "Sent clusters processed True\n"
     ]
    }
   ],
   "source": [
    "print (\"Received clusters processed\", not tr[(tr.received > 0)].count()[0] - (adr1_rec.count()[0] + adr2_rec.count()[0] + adr0_rec.count()[0]), \n",
    "       \"\\nSent clusters processed\", not tr[(tr.sent > 0)].count()[0] - (adr1_sen.count()[0] + adr2_sen.count()[0] + adr0_sen.count()[0]))"
   ]
  },
  {
   "cell_type": "code",
   "execution_count": 11,
   "metadata": {},
   "outputs": [
    {
     "name": "stdout",
     "output_type": "stream",
     "text": [
      "Сумма BTC, отправленных 1-ым кластером во 2ой: <= 129.24324\n",
      "Сумма BTC, отправленных 2-ым кластером в 1ый: <= 135.82\n",
      "\n",
      "Сумма BTC, отправленных 1-ым кластером во 0ой: <= 300.55392888\n",
      "Сумма BTC, отправленных 0-ым кластером в 1ый: <= 297.11968388\n",
      "\n",
      "Сумма BTC, отправленных 2-ым кластером во 0ой: <= 4.86984\n",
      "Сумма BTC, отправленных 0-ым кластером в 2ой: <= 9.74013861\n",
      "\n",
      "Комиссия, отправленная первым кластером равна 0.667839876692493 BTC\n",
      "\n",
      "Комиссия, отправленная вторым кластером равна 0.7462067844594951 BTC\n"
     ]
    }
   ],
   "source": [
    "# Первый - второй\n",
    "# trsum_1to2 = adr1_sen[adr1_sen['transaction_id'].isin(adr2_rec['transaction_id'])]\n",
    "trsum_1to2_rec = adr2_rec[adr2_rec['transaction_id'].isin(adr1_sen['transaction_id'])]\n",
    "print (\"Сумма BTC, отправленных 1-ым кластером во 2ой: <= {}\".format((\n",
    "    trsum_1to2_rec['received'].sum() / (10**8))))\n",
    "#trsum_2to1 = adr2_sen[adr2_sen['transaction_id'].isin(adr1_rec['transaction_id'])]\n",
    "trsum_2to1_rec = adr1_rec[adr1_rec['transaction_id'].isin(adr2_sen['transaction_id'])]\n",
    "print (\"Сумма BTC, отправленных 2-ым кластером в 1ый: <= {}\".format((\n",
    "    trsum_2to1_rec['received'].sum() / (10**8))))\n",
    "\n",
    "# Первый - нулевой\n",
    "# trsum_1to0 = adr1_sen[adr1_sen['transaction_id'].isin(adr0_rec['transaction_id'])]\n",
    "trsum_1to0_rec = adr0_rec[adr0_rec['transaction_id'].isin(adr1_sen['transaction_id'])]\n",
    "print (\"\\nСумма BTC, отправленных 1-ым кластером во 0ой: <= {}\".format((\n",
    "    trsum_1to0_rec['received'].sum() / (10**8))))\n",
    "# trsum_0to1 = adr0_sen[adr0_sen['transaction_id'].isin(adr1_rec['transaction_id'])]\n",
    "trsum_0to1_rec = adr1_rec[adr1_rec['transaction_id'].isin(adr0_sen['transaction_id'])]\n",
    "print (\"Сумма BTC, отправленных 0-ым кластером в 1ый: <= {}\".format((\n",
    "    trsum_0to1_rec['received'].sum() / (10**8))))\n",
    "\n",
    "# Второй - нулевой\n",
    "#trsum_2to0 = adr2_sen[adr2_sen['transaction_id'].isin(adr0_rec['transaction_id'])]\n",
    "trsum_2to0_rec = adr0_rec[adr0_rec['transaction_id'].isin(adr2_sen['transaction_id'])]\n",
    "print (\"\\nСумма BTC, отправленных 2-ым кластером во 0ой: <= {}\".format((\n",
    "    trsum_2to0_rec['received'].sum() / (10**8))))\n",
    "#trsum_0to2 = adr0_sen[adr0_sen['transaction_id'].isin(adr2_rec['transaction_id'])]\n",
    "trsum_0to2_rec = adr2_rec[adr2_rec['transaction_id'].isin(adr0_sen['transaction_id'])]\n",
    "print (\"Сумма BTC, отправленных 0-ым кластером в 2ой: <= {}\".format((\n",
    "    trsum_0to2_rec['received'].sum() / (10**8))))\n",
    "\n",
    "# Fee 1ого кластера\n",
    "fee1 = adr1_sen['sent'].sum() * ((tr[(tr.transaction_id.isin(adr1_sen.transaction_id))]['sent'].sum() \n",
    "        / tr[(tr.transaction_id.isin(adr1_sen.transaction_id))]['received'].sum()) - 1) / (10**8)\n",
    "print (f\"\\nКомиссия, отправленная первым кластером равна {fee1} BTC\", )\n",
    "\n",
    "# Fee 2ого кластера\n",
    "fee1 = adr2_sen['sent'].sum() * ((tr[(tr.transaction_id.isin(adr2_sen.transaction_id))]['sent'].sum() \n",
    "        / tr[(tr.transaction_id.isin(adr2_sen.transaction_id))]['received'].sum()) - 1) / (10**8)\n",
    "print (f\"\\nКомиссия, отправленная вторым кластером равна {fee1} BTC\", )\n"
   ]
  },
  {
   "cell_type": "code",
   "execution_count": 12,
   "metadata": {},
   "outputs": [
    {
     "data": {
      "text/html": [
       "<div>\n",
       "<style>\n",
       "    .dataframe thead tr:only-child th {\n",
       "        text-align: right;\n",
       "    }\n",
       "\n",
       "    .dataframe thead th {\n",
       "        text-align: left;\n",
       "    }\n",
       "\n",
       "    .dataframe tbody tr th {\n",
       "        vertical-align: top;\n",
       "    }\n",
       "</style>\n",
       "<table border=\"1\" class=\"dataframe\">\n",
       "  <thead>\n",
       "    <tr style=\"text-align: right;\">\n",
       "      <th></th>\n",
       "      <th>id</th>\n",
       "      <th>address_id</th>\n",
       "      <th>transaction_id</th>\n",
       "      <th>received</th>\n",
       "      <th>sent</th>\n",
       "    </tr>\n",
       "  </thead>\n",
       "  <tbody>\n",
       "    <tr>\n",
       "      <th>9619</th>\n",
       "      <td>98646384</td>\n",
       "      <td>52491535</td>\n",
       "      <td>21645495</td>\n",
       "      <td>0.0</td>\n",
       "      <td>1035000.0</td>\n",
       "    </tr>\n",
       "    <tr>\n",
       "      <th>9620</th>\n",
       "      <td>98646384</td>\n",
       "      <td>52491535</td>\n",
       "      <td>21645495</td>\n",
       "      <td>0.0</td>\n",
       "      <td>1035000.0</td>\n",
       "    </tr>\n",
       "    <tr>\n",
       "      <th>9621</th>\n",
       "      <td>98646385</td>\n",
       "      <td>50727409</td>\n",
       "      <td>21645495</td>\n",
       "      <td>0.0</td>\n",
       "      <td>3000000.0</td>\n",
       "    </tr>\n",
       "    <tr>\n",
       "      <th>9622</th>\n",
       "      <td>98646385</td>\n",
       "      <td>50727409</td>\n",
       "      <td>21645495</td>\n",
       "      <td>0.0</td>\n",
       "      <td>3000000.0</td>\n",
       "    </tr>\n",
       "    <tr>\n",
       "      <th>9623</th>\n",
       "      <td>98646386</td>\n",
       "      <td>52090595</td>\n",
       "      <td>21645495</td>\n",
       "      <td>0.0</td>\n",
       "      <td>3000000.0</td>\n",
       "    </tr>\n",
       "    <tr>\n",
       "      <th>9624</th>\n",
       "      <td>98646386</td>\n",
       "      <td>52090595</td>\n",
       "      <td>21645495</td>\n",
       "      <td>0.0</td>\n",
       "      <td>3000000.0</td>\n",
       "    </tr>\n",
       "    <tr>\n",
       "      <th>9625</th>\n",
       "      <td>98646387</td>\n",
       "      <td>49435192</td>\n",
       "      <td>21645495</td>\n",
       "      <td>0.0</td>\n",
       "      <td>3000000.0</td>\n",
       "    </tr>\n",
       "    <tr>\n",
       "      <th>9626</th>\n",
       "      <td>98646387</td>\n",
       "      <td>49435192</td>\n",
       "      <td>21645495</td>\n",
       "      <td>0.0</td>\n",
       "      <td>3000000.0</td>\n",
       "    </tr>\n",
       "    <tr>\n",
       "      <th>9627</th>\n",
       "      <td>98646388</td>\n",
       "      <td>49435647</td>\n",
       "      <td>21645495</td>\n",
       "      <td>0.0</td>\n",
       "      <td>3000000.0</td>\n",
       "    </tr>\n",
       "    <tr>\n",
       "      <th>9628</th>\n",
       "      <td>98646388</td>\n",
       "      <td>49435647</td>\n",
       "      <td>21645495</td>\n",
       "      <td>0.0</td>\n",
       "      <td>3000000.0</td>\n",
       "    </tr>\n",
       "    <tr>\n",
       "      <th>9629</th>\n",
       "      <td>98646389</td>\n",
       "      <td>52488195</td>\n",
       "      <td>21645495</td>\n",
       "      <td>12011000.0</td>\n",
       "      <td>0.0</td>\n",
       "    </tr>\n",
       "    <tr>\n",
       "      <th>9630</th>\n",
       "      <td>98646389</td>\n",
       "      <td>52488195</td>\n",
       "      <td>21645495</td>\n",
       "      <td>12011000.0</td>\n",
       "      <td>0.0</td>\n",
       "    </tr>\n",
       "    <tr>\n",
       "      <th>9631</th>\n",
       "      <td>98646390</td>\n",
       "      <td>52495555</td>\n",
       "      <td>21645495</td>\n",
       "      <td>1014000.0</td>\n",
       "      <td>0.0</td>\n",
       "    </tr>\n",
       "    <tr>\n",
       "      <th>9632</th>\n",
       "      <td>98646390</td>\n",
       "      <td>52495555</td>\n",
       "      <td>21645495</td>\n",
       "      <td>1014000.0</td>\n",
       "      <td>0.0</td>\n",
       "    </tr>\n",
       "  </tbody>\n",
       "</table>\n",
       "</div>"
      ],
      "text/plain": [
       "            id  address_id  transaction_id    received       sent\n",
       "9619  98646384    52491535        21645495         0.0  1035000.0\n",
       "9620  98646384    52491535        21645495         0.0  1035000.0\n",
       "9621  98646385    50727409        21645495         0.0  3000000.0\n",
       "9622  98646385    50727409        21645495         0.0  3000000.0\n",
       "9623  98646386    52090595        21645495         0.0  3000000.0\n",
       "9624  98646386    52090595        21645495         0.0  3000000.0\n",
       "9625  98646387    49435192        21645495         0.0  3000000.0\n",
       "9626  98646387    49435192        21645495         0.0  3000000.0\n",
       "9627  98646388    49435647        21645495         0.0  3000000.0\n",
       "9628  98646388    49435647        21645495         0.0  3000000.0\n",
       "9629  98646389    52488195        21645495  12011000.0        0.0\n",
       "9630  98646389    52488195        21645495  12011000.0        0.0\n",
       "9631  98646390    52495555        21645495   1014000.0        0.0\n",
       "9632  98646390    52495555        21645495   1014000.0        0.0"
      ]
     },
     "execution_count": 12,
     "metadata": {},
     "output_type": "execute_result"
    }
   ],
   "source": [
    "# в каких-то транзакциях есть одинаковые записи вплоть до id.\n",
    "tr[tr['transaction_id'] == 21645495]"
   ]
  },
  {
   "cell_type": "code",
   "execution_count": 13,
   "metadata": {},
   "outputs": [
    {
     "data": {
      "text/html": [
       "<div>\n",
       "<style>\n",
       "    .dataframe thead tr:only-child th {\n",
       "        text-align: right;\n",
       "    }\n",
       "\n",
       "    .dataframe thead th {\n",
       "        text-align: left;\n",
       "    }\n",
       "\n",
       "    .dataframe tbody tr th {\n",
       "        vertical-align: top;\n",
       "    }\n",
       "</style>\n",
       "<table border=\"1\" class=\"dataframe\">\n",
       "  <thead>\n",
       "    <tr style=\"text-align: right;\">\n",
       "      <th></th>\n",
       "      <th>id</th>\n",
       "      <th>address_id</th>\n",
       "      <th>transaction_id</th>\n",
       "      <th>received</th>\n",
       "      <th>sent</th>\n",
       "    </tr>\n",
       "  </thead>\n",
       "  <tbody>\n",
       "    <tr>\n",
       "      <th>9619</th>\n",
       "      <td>98646384</td>\n",
       "      <td>52491535</td>\n",
       "      <td>21645495</td>\n",
       "      <td>0.0</td>\n",
       "      <td>1035000.0</td>\n",
       "    </tr>\n",
       "    <tr>\n",
       "      <th>9621</th>\n",
       "      <td>98646385</td>\n",
       "      <td>50727409</td>\n",
       "      <td>21645495</td>\n",
       "      <td>0.0</td>\n",
       "      <td>3000000.0</td>\n",
       "    </tr>\n",
       "    <tr>\n",
       "      <th>9623</th>\n",
       "      <td>98646386</td>\n",
       "      <td>52090595</td>\n",
       "      <td>21645495</td>\n",
       "      <td>0.0</td>\n",
       "      <td>3000000.0</td>\n",
       "    </tr>\n",
       "    <tr>\n",
       "      <th>9625</th>\n",
       "      <td>98646387</td>\n",
       "      <td>49435192</td>\n",
       "      <td>21645495</td>\n",
       "      <td>0.0</td>\n",
       "      <td>3000000.0</td>\n",
       "    </tr>\n",
       "    <tr>\n",
       "      <th>9627</th>\n",
       "      <td>98646388</td>\n",
       "      <td>49435647</td>\n",
       "      <td>21645495</td>\n",
       "      <td>0.0</td>\n",
       "      <td>3000000.0</td>\n",
       "    </tr>\n",
       "    <tr>\n",
       "      <th>9629</th>\n",
       "      <td>98646389</td>\n",
       "      <td>52488195</td>\n",
       "      <td>21645495</td>\n",
       "      <td>12011000.0</td>\n",
       "      <td>0.0</td>\n",
       "    </tr>\n",
       "    <tr>\n",
       "      <th>9631</th>\n",
       "      <td>98646390</td>\n",
       "      <td>52495555</td>\n",
       "      <td>21645495</td>\n",
       "      <td>1014000.0</td>\n",
       "      <td>0.0</td>\n",
       "    </tr>\n",
       "  </tbody>\n",
       "</table>\n",
       "</div>"
      ],
      "text/plain": [
       "            id  address_id  transaction_id    received       sent\n",
       "9619  98646384    52491535        21645495         0.0  1035000.0\n",
       "9621  98646385    50727409        21645495         0.0  3000000.0\n",
       "9623  98646386    52090595        21645495         0.0  3000000.0\n",
       "9625  98646387    49435192        21645495         0.0  3000000.0\n",
       "9627  98646388    49435647        21645495         0.0  3000000.0\n",
       "9629  98646389    52488195        21645495  12011000.0        0.0\n",
       "9631  98646390    52495555        21645495   1014000.0        0.0"
      ]
     },
     "execution_count": 13,
     "metadata": {},
     "output_type": "execute_result"
    }
   ],
   "source": [
    "#Дропнем их\n",
    "tr.drop_duplicates(inplace=True)\n",
    "tr[tr['transaction_id'] == 21645495]"
   ]
  },
  {
   "cell_type": "code",
   "execution_count": 14,
   "metadata": {},
   "outputs": [],
   "source": [
    "## Повторим вычисления для нового датафрейма\n",
    "# Выберем записи для 1, 2 и 0 кластеров\n",
    "adr1_rec = tr[(tr.received > 0) & (tr.address_id.isin(adr1.address_id))] # получено первым кластером\n",
    "adr2_rec = tr[(tr.received > 0) & (tr.address_id.isin(adr2.address_id))] # получено вторым кластером\n",
    "adr0_rec = tr[(tr.received > 0) & (~tr.address_id.isin(adr1.address_id)) & (~tr.address_id.isin(adr2.address_id))] # получено нулевым кластером\n",
    "adr1_sen = tr[(tr.sent > 0) & (tr.address_id.isin(adr1.address_id))] # отправлено первым кластером\n",
    "adr2_sen = tr[(tr.sent > 0) & (tr.address_id.isin(adr2.address_id))] # отправлено вторым кластером\n",
    "adr0_sen = tr[(tr.sent > 0) & (~tr.address_id.isin(adr1.address_id)) & (~tr.address_id.isin(adr2.address_id))] # получено нулевым кластером\n"
   ]
  },
  {
   "cell_type": "code",
   "execution_count": 15,
   "metadata": {},
   "outputs": [
    {
     "name": "stdout",
     "output_type": "stream",
     "text": [
      "26887 12099 6715 8073 \n",
      " 27558 12096 6715 8747\n"
     ]
    }
   ],
   "source": [
    "print (tr[(tr.received > 0)].count()[0], adr1_rec.count()[0], adr2_rec.count()[0], adr0_rec.count()[0], \n",
    "    \"\\n\",tr[(tr.sent > 0)].count()[0], adr1_sen.count()[0], adr2_sen.count()[0], adr0_sen.count()[0])"
   ]
  },
  {
   "cell_type": "code",
   "execution_count": 16,
   "metadata": {},
   "outputs": [
    {
     "name": "stdout",
     "output_type": "stream",
     "text": [
      "Received clusters processed True \n",
      "Sent clusters processed True\n"
     ]
    }
   ],
   "source": [
    "print (\"Received clusters processed\", not tr[(tr.received > 0)].count()[0] - (adr1_rec.count()[0] + adr2_rec.count()[0] + adr0_rec.count()[0]), \n",
    "       \"\\nSent clusters processed\", not tr[(tr.sent > 0)].count()[0] - (adr1_sen.count()[0] + adr2_sen.count()[0] + adr0_sen.count()[0]))"
   ]
  },
  {
   "cell_type": "code",
   "execution_count": 17,
   "metadata": {},
   "outputs": [
    {
     "name": "stdout",
     "output_type": "stream",
     "text": [
      "Сумма BTC, отправленных 1-ым кластером во 2ой: <= 64.62162\n",
      "Сумма BTC, отправленных 2-ым кластером в 1ый: <= 67.91\n",
      "\n",
      "Сумма BTC, отправленных 1-ым кластером во 0ой: <= 291.5108346\n",
      "Сумма BTC, отправленных 0-ым кластером в 1ый: <= 288.7905886\n",
      "\n",
      "Сумма BTC, отправленных 2-ым кластером во 0ой: <= 2.43507\n",
      "Сумма BTC, отправленных 0-ым кластером в 2ой: <= 6.09640861\n",
      "\n",
      "Комиссия, отправленная первым кластером равна 0.5027980741478584 BTC\n",
      "\n",
      "Комиссия, отправленная вторым кластером равна 0.373228573081378 BTC\n"
     ]
    }
   ],
   "source": [
    "# Первый - второй\n",
    "# trsum_1to2 = adr1_sen[adr1_sen['transaction_id'].isin(adr2_rec['transaction_id'])]\n",
    "trsum_1to2_rec = adr2_rec[adr2_rec['transaction_id'].isin(adr1_sen['transaction_id'])]\n",
    "print (\"Сумма BTC, отправленных 1-ым кластером во 2ой: <= {}\".format((\n",
    "    trsum_1to2_rec['received'].sum() / (10**8))))\n",
    "#trsum_2to1 = adr2_sen[adr2_sen['transaction_id'].isin(adr1_rec['transaction_id'])]\n",
    "trsum_2to1_rec = adr1_rec[adr1_rec['transaction_id'].isin(adr2_sen['transaction_id'])]\n",
    "print (\"Сумма BTC, отправленных 2-ым кластером в 1ый: <= {}\".format((\n",
    "    trsum_2to1_rec['received'].sum() / (10**8))))\n",
    "\n",
    "# Первый - нулевой\n",
    "# trsum_1to0 = adr1_sen[adr1_sen['transaction_id'].isin(adr0_rec['transaction_id'])]\n",
    "trsum_1to0_rec = adr0_rec[adr0_rec['transaction_id'].isin(adr1_sen['transaction_id'])]\n",
    "print (\"\\nСумма BTC, отправленных 1-ым кластером во 0ой: <= {}\".format((\n",
    "    trsum_1to0_rec['received'].sum() / (10**8))))\n",
    "# trsum_0to1 = adr0_sen[adr0_sen['transaction_id'].isin(adr1_rec['transaction_id'])]\n",
    "trsum_0to1_rec = adr1_rec[adr1_rec['transaction_id'].isin(adr0_sen['transaction_id'])]\n",
    "print (\"Сумма BTC, отправленных 0-ым кластером в 1ый: <= {}\".format((\n",
    "    trsum_0to1_rec['received'].sum() / (10**8))))\n",
    "\n",
    "# Второй - нулевой\n",
    "#trsum_2to0 = adr2_sen[adr2_sen['transaction_id'].isin(adr0_rec['transaction_id'])]\n",
    "trsum_2to0_rec = adr0_rec[adr0_rec['transaction_id'].isin(adr2_sen['transaction_id'])]\n",
    "print (\"\\nСумма BTC, отправленных 2-ым кластером во 0ой: <= {}\".format((\n",
    "    trsum_2to0_rec['received'].sum() / (10**8))))\n",
    "#trsum_0to2 = adr0_sen[adr0_sen['transaction_id'].isin(adr2_rec['transaction_id'])]\n",
    "trsum_0to2_rec = adr2_rec[adr2_rec['transaction_id'].isin(adr0_sen['transaction_id'])]\n",
    "print (\"Сумма BTC, отправленных 0-ым кластером в 2ой: <= {}\".format((\n",
    "    trsum_0to2_rec['received'].sum() / (10**8))))\n",
    "\n",
    "# Fee 1ого кластера\n",
    "fee1 = adr1_sen['sent'].sum() * ((tr[(tr.transaction_id.isin(adr1_sen.transaction_id))]['sent'].sum() \n",
    "        / tr[(tr.transaction_id.isin(adr1_sen.transaction_id))]['received'].sum()) - 1) / (10**8)\n",
    "print (f\"\\nКомиссия, отправленная первым кластером равна {fee1} BTC\", )\n",
    "\n",
    "# Fee 2ого кластера\n",
    "fee1 = adr2_sen['sent'].sum() * ((tr[(tr.transaction_id.isin(adr2_sen.transaction_id))]['sent'].sum() \n",
    "        / tr[(tr.transaction_id.isin(adr2_sen.transaction_id))]['received'].sum()) - 1) / (10**8)\n",
    "print (f\"\\nКомиссия, отправленная вторым кластером равна {fee1} BTC\", )\n"
   ]
  }
 ],
 "metadata": {
  "kernelspec": {
   "display_name": "Python 3",
   "language": "python",
   "name": "python3"
  },
  "language_info": {
   "codemirror_mode": {
    "name": "ipython",
    "version": 3
   },
   "file_extension": ".py",
   "mimetype": "text/x-python",
   "name": "python",
   "nbconvert_exporter": "python",
   "pygments_lexer": "ipython3",
   "version": "3.6.6"
  }
 },
 "nbformat": 4,
 "nbformat_minor": 2
}
